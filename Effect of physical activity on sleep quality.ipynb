{
 "cells": [
  {
   "cell_type": "markdown",
   "metadata": {},
   "source": [
    "# EFFECT OF PHYSICAL ACTIVITY ON SLEEP QUALITY"
   ]
  },
  {
   "cell_type": "markdown",
   "metadata": {},
   "source": [
    "The effect of exercise on sleep has been studied extensively (For example, [Exercise reducing insomnia](https://www.hopkinsmedicine.org/health/wellness-and-prevention/exercising-for-better-sleep#:~:text=Exercise%20Decreases%20Insomnia,to%20medical%20treatments%20for%20insomnia.),[Interrelationship between exercise and sleep](https://www.ncbi.nlm.nih.gov/pmc/articles/PMC5385214/)). <br>\n",
    "\n",
    "I have GoogleFit data from my smartwatch that tracks my sleep and physical activity. I will use that to understand the effect of time spent in various exercise zones on four stages of sleep. The quality of sleep is derived from\n",
    "1. time in deep sleep\n",
    "2. time in REM\n",
    "3. time in light sleep\n",
    "4. time awake"
   ]
  },
  {
   "cell_type": "markdown",
   "metadata": {},
   "source": [
    "Before digging into the messy GoogleFit data, I will first use my personal database where I have recorded time spent walking and/or running and sleep data from my watch. There are three databases <br>\n",
    "1. DataAnalysis Project - WalkingNOISE.csv\n",
    "2. DataAnalysis Project - RunningNOISE.csv\n",
    "3. DataAnalysis Project - SleepNOISE.csv"
   ]
  },
  {
   "cell_type": "markdown",
   "metadata": {},
   "source": [
    "## Database"
   ]
  },
  {
   "cell_type": "markdown",
   "metadata": {},
   "source": [
    "### DataAnalysis Project - WalkingNOISE.csv and DataAnalysis Project - RunningNOISE.csv\n",
    "\n",
    "| date dd-mm-yyyy | Day | start time | distance km | duration hh:mm:ss | calories kcal | avgpace /km | avgspeed kmph | avgcadence /min | numsteps | avghr bpm | avgstride cm | aerobic m | anaerobic m | fatburn m | warmup m |\n",
    "|-----------------|-----|------------|-------------|-------------------|---------------|-------------|---------------|-----------------|----------|-----------|--------------|-----------|-------------|-----------|----------|\n",
    "\n",
    "In this preliminary data analysis, I will only keep date, duration, calories, avgspeed, avghr, aerobic, anaerobic, fatburn, warmup"
   ]
  },
  {
   "cell_type": "markdown",
   "metadata": {},
   "source": [
    "### DataAnalysis Project - SleepNOISE.csv \n",
    "\n",
    "| date dd-mm-yyyy | day | sleep hours | start hh:mm AM/PM | end hh:mm AM/PM | deep sleep | light sleep | awake | REM | nap |\n",
    "|-----------------|-----|-------------|-------------------|-----------------|------------|-------------|-------|-----|-----|\n",
    "\n",
    "In this preliminary data analysis, I will only keep date, sleep hours, deep sleep, light sleep, awake, REM"
   ]
  },
  {
   "cell_type": "code",
   "execution_count": null,
   "metadata": {},
   "outputs": [],
   "source": []
  }
 ],
 "metadata": {
  "kernelspec": {
   "display_name": "Python 3",
   "language": "python",
   "name": "python3"
  },
  "language_info": {
   "codemirror_mode": {
    "name": "ipython",
    "version": 3
   },
   "file_extension": ".py",
   "mimetype": "text/x-python",
   "name": "python",
   "nbconvert_exporter": "python",
   "pygments_lexer": "ipython3",
   "version": "3.8.10"
  }
 },
 "nbformat": 4,
 "nbformat_minor": 4
}
